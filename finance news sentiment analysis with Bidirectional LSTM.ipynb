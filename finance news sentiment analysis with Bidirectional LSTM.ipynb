{
 "cells": [
  {
   "cell_type": "code",
   "execution_count": 2,
   "id": "bfbef593",
   "metadata": {},
   "outputs": [],
   "source": [
    "import pandas as pd\n",
    "import numpy as np\n",
    "import matplotlib.pyplot as plt\n",
    "import seaborn as sns\n",
    "import requests\n",
    "import nltk\n",
    "from bs4 import BeautifulSoup\n",
    "import random\n",
    "import os\n",
    "from textblob import TextBlob\n",
    "%matplotlib inline"
   ]
  },
  {
   "cell_type": "code",
   "execution_count": 4,
   "id": "bf3081f1",
   "metadata": {},
   "outputs": [],
   "source": [
    "df=pd.read_csv(\"./data/all-data.csv\", encoding='latin-1')"
   ]
  },
  {
   "cell_type": "code",
   "execution_count": 5,
   "id": "ac7efd97",
   "metadata": {},
   "outputs": [
    {
     "data": {
      "text/html": [
       "<div>\n",
       "<style scoped>\n",
       "    .dataframe tbody tr th:only-of-type {\n",
       "        vertical-align: middle;\n",
       "    }\n",
       "\n",
       "    .dataframe tbody tr th {\n",
       "        vertical-align: top;\n",
       "    }\n",
       "\n",
       "    .dataframe thead th {\n",
       "        text-align: right;\n",
       "    }\n",
       "</style>\n",
       "<table border=\"1\" class=\"dataframe\">\n",
       "  <thead>\n",
       "    <tr style=\"text-align: right;\">\n",
       "      <th></th>\n",
       "      <th>neutral</th>\n",
       "      <th>According to Gran , the company has no plans to move all production to Russia , although that is where the company is growing .</th>\n",
       "    </tr>\n",
       "  </thead>\n",
       "  <tbody>\n",
       "    <tr>\n",
       "      <th>0</th>\n",
       "      <td>neutral</td>\n",
       "      <td>Technopolis plans to develop in stages an area...</td>\n",
       "    </tr>\n",
       "    <tr>\n",
       "      <th>1</th>\n",
       "      <td>negative</td>\n",
       "      <td>The international electronic industry company ...</td>\n",
       "    </tr>\n",
       "    <tr>\n",
       "      <th>2</th>\n",
       "      <td>positive</td>\n",
       "      <td>With the new production plant the company woul...</td>\n",
       "    </tr>\n",
       "    <tr>\n",
       "      <th>3</th>\n",
       "      <td>positive</td>\n",
       "      <td>According to the company 's updated strategy f...</td>\n",
       "    </tr>\n",
       "    <tr>\n",
       "      <th>4</th>\n",
       "      <td>positive</td>\n",
       "      <td>FINANCING OF ASPOCOMP 'S GROWTH Aspocomp is ag...</td>\n",
       "    </tr>\n",
       "    <tr>\n",
       "      <th>...</th>\n",
       "      <td>...</td>\n",
       "      <td>...</td>\n",
       "    </tr>\n",
       "    <tr>\n",
       "      <th>4840</th>\n",
       "      <td>negative</td>\n",
       "      <td>LONDON MarketWatch -- Share prices ended lower...</td>\n",
       "    </tr>\n",
       "    <tr>\n",
       "      <th>4841</th>\n",
       "      <td>neutral</td>\n",
       "      <td>Rinkuskiai 's beer sales fell by 6.5 per cent ...</td>\n",
       "    </tr>\n",
       "    <tr>\n",
       "      <th>4842</th>\n",
       "      <td>negative</td>\n",
       "      <td>Operating profit fell to EUR 35.4 mn from EUR ...</td>\n",
       "    </tr>\n",
       "    <tr>\n",
       "      <th>4843</th>\n",
       "      <td>negative</td>\n",
       "      <td>Net sales of the Paper segment decreased to EU...</td>\n",
       "    </tr>\n",
       "    <tr>\n",
       "      <th>4844</th>\n",
       "      <td>negative</td>\n",
       "      <td>Sales in Finland decreased by 10.5 % in Januar...</td>\n",
       "    </tr>\n",
       "  </tbody>\n",
       "</table>\n",
       "<p>4845 rows × 2 columns</p>\n",
       "</div>"
      ],
      "text/plain": [
       "       neutral  \\\n",
       "0      neutral   \n",
       "1     negative   \n",
       "2     positive   \n",
       "3     positive   \n",
       "4     positive   \n",
       "...        ...   \n",
       "4840  negative   \n",
       "4841   neutral   \n",
       "4842  negative   \n",
       "4843  negative   \n",
       "4844  negative   \n",
       "\n",
       "     According to Gran , the company has no plans to move all production to Russia , although that is where the company is growing .  \n",
       "0     Technopolis plans to develop in stages an area...                                                                               \n",
       "1     The international electronic industry company ...                                                                               \n",
       "2     With the new production plant the company woul...                                                                               \n",
       "3     According to the company 's updated strategy f...                                                                               \n",
       "4     FINANCING OF ASPOCOMP 'S GROWTH Aspocomp is ag...                                                                               \n",
       "...                                                 ...                                                                               \n",
       "4840  LONDON MarketWatch -- Share prices ended lower...                                                                               \n",
       "4841  Rinkuskiai 's beer sales fell by 6.5 per cent ...                                                                               \n",
       "4842  Operating profit fell to EUR 35.4 mn from EUR ...                                                                               \n",
       "4843  Net sales of the Paper segment decreased to EU...                                                                               \n",
       "4844  Sales in Finland decreased by 10.5 % in Januar...                                                                               \n",
       "\n",
       "[4845 rows x 2 columns]"
      ]
     },
     "execution_count": 5,
     "metadata": {},
     "output_type": "execute_result"
    }
   ],
   "source": [
    "df"
   ]
  },
  {
   "cell_type": "code",
   "execution_count": 6,
   "id": "c0997dda",
   "metadata": {},
   "outputs": [],
   "source": [
    "df2=pd.read_csv('./data/IndianFinancialNews.csv')"
   ]
  },
  {
   "cell_type": "code",
   "execution_count": 22,
   "id": "b64e56ee",
   "metadata": {},
   "outputs": [
    {
     "data": {
      "text/html": [
       "<div>\n",
       "<style scoped>\n",
       "    .dataframe tbody tr th:only-of-type {\n",
       "        vertical-align: middle;\n",
       "    }\n",
       "\n",
       "    .dataframe tbody tr th {\n",
       "        vertical-align: top;\n",
       "    }\n",
       "\n",
       "    .dataframe thead th {\n",
       "        text-align: right;\n",
       "    }\n",
       "</style>\n",
       "<table border=\"1\" class=\"dataframe\">\n",
       "  <thead>\n",
       "    <tr style=\"text-align: right;\">\n",
       "      <th></th>\n",
       "      <th>Date</th>\n",
       "      <th>Title</th>\n",
       "      <th>Description</th>\n",
       "    </tr>\n",
       "  </thead>\n",
       "  <tbody>\n",
       "    <tr>\n",
       "      <th>0</th>\n",
       "      <td>May 26, 2020, Tuesday</td>\n",
       "      <td>ATMs to become virtual bank branches, accept d...</td>\n",
       "      <td>Close to 14.6 per cent (or 35,000) of the 240,...</td>\n",
       "    </tr>\n",
       "    <tr>\n",
       "      <th>1</th>\n",
       "      <td>May 26, 2020, Tuesday</td>\n",
       "      <td>IDFC First Bank seniors to forgo 65% of bonus ...</td>\n",
       "      <td>V Vaidyanathan, managing director and chief ex...</td>\n",
       "    </tr>\n",
       "    <tr>\n",
       "      <th>2</th>\n",
       "      <td>May 25, 2020, Monday</td>\n",
       "      <td>Huge scam in YES Bank for many years, says Enf...</td>\n",
       "      <td>Rana Kapoor's wife also charged with abetting ...</td>\n",
       "    </tr>\n",
       "    <tr>\n",
       "      <th>3</th>\n",
       "      <td>May 24, 2020, Sunday</td>\n",
       "      <td>Bank of Maharashtra sanctioned Rs 2,789 cr in ...</td>\n",
       "      <td>The bank said it was now gearing up to extend ...</td>\n",
       "    </tr>\n",
       "    <tr>\n",
       "      <th>4</th>\n",
       "      <td>May 23, 2020, Saturday</td>\n",
       "      <td>DCB Bank's profit before tax declines 37.6% to...</td>\n",
       "      <td>Net profit for the financial year ended March ...</td>\n",
       "    </tr>\n",
       "  </tbody>\n",
       "</table>\n",
       "</div>"
      ],
      "text/plain": [
       "                     Date                                              Title  \\\n",
       "0   May 26, 2020, Tuesday  ATMs to become virtual bank branches, accept d...   \n",
       "1   May 26, 2020, Tuesday  IDFC First Bank seniors to forgo 65% of bonus ...   \n",
       "2    May 25, 2020, Monday  Huge scam in YES Bank for many years, says Enf...   \n",
       "3    May 24, 2020, Sunday  Bank of Maharashtra sanctioned Rs 2,789 cr in ...   \n",
       "4  May 23, 2020, Saturday  DCB Bank's profit before tax declines 37.6% to...   \n",
       "\n",
       "                                         Description  \n",
       "0  Close to 14.6 per cent (or 35,000) of the 240,...  \n",
       "1  V Vaidyanathan, managing director and chief ex...  \n",
       "2  Rana Kapoor's wife also charged with abetting ...  \n",
       "3  The bank said it was now gearing up to extend ...  \n",
       "4  Net profit for the financial year ended March ...  "
      ]
     },
     "execution_count": 22,
     "metadata": {},
     "output_type": "execute_result"
    }
   ],
   "source": [
    "df2.head()"
   ]
  },
  {
   "cell_type": "code",
   "execution_count": 8,
   "id": "4acca324",
   "metadata": {},
   "outputs": [],
   "source": [
    "df=df.rename(columns={\n",
    "    'neutral':'sentiment',\n",
    "    'According to Gran , the company has no plans to move all production to Russia , although that is where the company is growing .':'news'\n",
    "})"
   ]
  },
  {
   "cell_type": "code",
   "execution_count": 9,
   "id": "d4f50205",
   "metadata": {},
   "outputs": [
    {
     "data": {
      "text/html": [
       "<div>\n",
       "<style scoped>\n",
       "    .dataframe tbody tr th:only-of-type {\n",
       "        vertical-align: middle;\n",
       "    }\n",
       "\n",
       "    .dataframe tbody tr th {\n",
       "        vertical-align: top;\n",
       "    }\n",
       "\n",
       "    .dataframe thead th {\n",
       "        text-align: right;\n",
       "    }\n",
       "</style>\n",
       "<table border=\"1\" class=\"dataframe\">\n",
       "  <thead>\n",
       "    <tr style=\"text-align: right;\">\n",
       "      <th></th>\n",
       "      <th>sentiment</th>\n",
       "      <th>news</th>\n",
       "    </tr>\n",
       "  </thead>\n",
       "  <tbody>\n",
       "    <tr>\n",
       "      <th>0</th>\n",
       "      <td>neutral</td>\n",
       "      <td>Technopolis plans to develop in stages an area...</td>\n",
       "    </tr>\n",
       "    <tr>\n",
       "      <th>1</th>\n",
       "      <td>negative</td>\n",
       "      <td>The international electronic industry company ...</td>\n",
       "    </tr>\n",
       "    <tr>\n",
       "      <th>2</th>\n",
       "      <td>positive</td>\n",
       "      <td>With the new production plant the company woul...</td>\n",
       "    </tr>\n",
       "    <tr>\n",
       "      <th>3</th>\n",
       "      <td>positive</td>\n",
       "      <td>According to the company 's updated strategy f...</td>\n",
       "    </tr>\n",
       "    <tr>\n",
       "      <th>4</th>\n",
       "      <td>positive</td>\n",
       "      <td>FINANCING OF ASPOCOMP 'S GROWTH Aspocomp is ag...</td>\n",
       "    </tr>\n",
       "  </tbody>\n",
       "</table>\n",
       "</div>"
      ],
      "text/plain": [
       "  sentiment                                               news\n",
       "0   neutral  Technopolis plans to develop in stages an area...\n",
       "1  negative  The international electronic industry company ...\n",
       "2  positive  With the new production plant the company woul...\n",
       "3  positive  According to the company 's updated strategy f...\n",
       "4  positive  FINANCING OF ASPOCOMP 'S GROWTH Aspocomp is ag..."
      ]
     },
     "execution_count": 9,
     "metadata": {},
     "output_type": "execute_result"
    }
   ],
   "source": [
    "df.head()"
   ]
  },
  {
   "cell_type": "code",
   "execution_count": 13,
   "id": "a3156644",
   "metadata": {},
   "outputs": [
    {
     "data": {
      "text/plain": [
       "neutral     2878\n",
       "positive    1363\n",
       "negative     604\n",
       "Name: sentiment, dtype: int64"
      ]
     },
     "execution_count": 13,
     "metadata": {},
     "output_type": "execute_result"
    }
   ],
   "source": [
    "df['sentiment'].value_counts()"
   ]
  },
  {
   "cell_type": "code",
   "execution_count": 20,
   "id": "a7d4fa81",
   "metadata": {},
   "outputs": [],
   "source": [
    "df2=df2.drop('Unnamed: 0', axis=1)"
   ]
  },
  {
   "cell_type": "code",
   "execution_count": 31,
   "id": "a6052eca",
   "metadata": {},
   "outputs": [
    {
     "data": {
      "text/plain": [
       "50000"
      ]
     },
     "execution_count": 31,
     "metadata": {},
     "output_type": "execute_result"
    }
   ],
   "source": [
    "len(df2)"
   ]
  },
  {
   "cell_type": "code",
   "execution_count": 24,
   "id": "b4122117",
   "metadata": {},
   "outputs": [],
   "source": [
    "df3=pd.read_csv('./data/0datasets/finalSentimentdata2.csv')"
   ]
  },
  {
   "cell_type": "code",
   "execution_count": 25,
   "id": "39632b7e",
   "metadata": {},
   "outputs": [
    {
     "data": {
      "text/html": [
       "<div>\n",
       "<style scoped>\n",
       "    .dataframe tbody tr th:only-of-type {\n",
       "        vertical-align: middle;\n",
       "    }\n",
       "\n",
       "    .dataframe tbody tr th {\n",
       "        vertical-align: top;\n",
       "    }\n",
       "\n",
       "    .dataframe thead th {\n",
       "        text-align: right;\n",
       "    }\n",
       "</style>\n",
       "<table border=\"1\" class=\"dataframe\">\n",
       "  <thead>\n",
       "    <tr style=\"text-align: right;\">\n",
       "      <th></th>\n",
       "      <th>Unnamed: 0</th>\n",
       "      <th>sentiment</th>\n",
       "      <th>text</th>\n",
       "    </tr>\n",
       "  </thead>\n",
       "  <tbody>\n",
       "    <tr>\n",
       "      <th>0</th>\n",
       "      <td>3204</td>\n",
       "      <td>sad</td>\n",
       "      <td>agree the poor in india are treated badly thei...</td>\n",
       "    </tr>\n",
       "    <tr>\n",
       "      <th>1</th>\n",
       "      <td>1431</td>\n",
       "      <td>joy</td>\n",
       "      <td>if only i could have spent the with this cutie...</td>\n",
       "    </tr>\n",
       "    <tr>\n",
       "      <th>2</th>\n",
       "      <td>654</td>\n",
       "      <td>joy</td>\n",
       "      <td>will nature conservation remain a priority in ...</td>\n",
       "    </tr>\n",
       "    <tr>\n",
       "      <th>3</th>\n",
       "      <td>2530</td>\n",
       "      <td>sad</td>\n",
       "      <td>coronavirus disappearing in italy show this to...</td>\n",
       "    </tr>\n",
       "    <tr>\n",
       "      <th>4</th>\n",
       "      <td>2296</td>\n",
       "      <td>sad</td>\n",
       "      <td>uk records lowest daily virus death toll since...</td>\n",
       "    </tr>\n",
       "  </tbody>\n",
       "</table>\n",
       "</div>"
      ],
      "text/plain": [
       "   Unnamed: 0 sentiment                                               text\n",
       "0        3204       sad  agree the poor in india are treated badly thei...\n",
       "1        1431       joy  if only i could have spent the with this cutie...\n",
       "2         654       joy  will nature conservation remain a priority in ...\n",
       "3        2530       sad  coronavirus disappearing in italy show this to...\n",
       "4        2296       sad  uk records lowest daily virus death toll since..."
      ]
     },
     "execution_count": 25,
     "metadata": {},
     "output_type": "execute_result"
    }
   ],
   "source": [
    "df3.head()"
   ]
  },
  {
   "cell_type": "markdown",
   "id": "a93294ba",
   "metadata": {},
   "source": [
    "### Need to extract article from given URL"
   ]
  },
  {
   "cell_type": "code",
   "execution_count": 26,
   "id": "bd85ac19",
   "metadata": {},
   "outputs": [],
   "source": [
    "# sns.countplot(y='sentiment', data=df)"
   ]
  },
  {
   "cell_type": "code",
   "execution_count": 47,
   "id": "64fcb0bf",
   "metadata": {},
   "outputs": [],
   "source": [
    "import requests\n",
    "import nltk\n",
    "from bs4 import BeautifulSoup\n",
    "import random\n",
    "import os\n",
    "from textblob import TextBlob"
   ]
  },
  {
   "cell_type": "code",
   "execution_count": 107,
   "id": "292a173b",
   "metadata": {},
   "outputs": [],
   "source": [
    "def get_article(link):\n",
    "    r=requests.get(link)\n",
    "    r.encoding='utf-8'\n",
    "    html=r.text\n",
    "    soup=BeautifulSoup(html)\n",
    "    text=soup.get_text()\n",
    "    clean_text=text.replace('\\n',' ').replace('\\t', ' ').replace(\"'\",\" \").replace(\"\\\\\",\" \").replace(\"★\",\" \").replace(\"  \",\" \")\n",
    "    final_text=''.join([c for c in clean_text if c!=\"'\"])\n",
    "    return final_text[:5000]"
   ]
  },
  {
   "cell_type": "code",
   "execution_count": null,
   "id": "454303c0",
   "metadata": {},
   "outputs": [],
   "source": [
    "news_list=[]\n",
    "for x in range(len(df3)):\n",
    "    news_list.append(get_article(df3['URL'][x]))"
   ]
  },
  {
   "cell_type": "code",
   "execution_count": 27,
   "id": "64319f97",
   "metadata": {},
   "outputs": [
    {
     "ename": "NameError",
     "evalue": "name 'news_list' is not defined",
     "output_type": "error",
     "traceback": [
      "\u001b[1;31m---------------------------------------------------------------------------\u001b[0m",
      "\u001b[1;31mNameError\u001b[0m                                 Traceback (most recent call last)",
      "Cell \u001b[1;32mIn [27], line 1\u001b[0m\n\u001b[1;32m----> 1\u001b[0m news_list[:\u001b[38;5;241m10\u001b[39m]\n",
      "\u001b[1;31mNameError\u001b[0m: name 'news_list' is not defined"
     ]
    }
   ],
   "source": [
    "# news_list[:10]"
   ]
  },
  {
   "cell_type": "code",
   "execution_count": 28,
   "id": "5ab496b2",
   "metadata": {},
   "outputs": [
    {
     "data": {
      "text/plain": [
       "Index(['Unnamed: 0', 'sentiment', 'text'], dtype='object')"
      ]
     },
     "execution_count": 28,
     "metadata": {},
     "output_type": "execute_result"
    }
   ],
   "source": [
    "df3.columns"
   ]
  },
  {
   "cell_type": "code",
   "execution_count": 30,
   "id": "f60d7996",
   "metadata": {},
   "outputs": [
    {
     "data": {
      "text/plain": [
       "'thull is passing the most dangerous and ultra hazardous situation in its history 80% population of thul town and surrounding have been striked by corona virus cm/health m sindh to take notice we plead the govt to pay attention to thul retweet &share'"
      ]
     },
     "execution_count": 30,
     "metadata": {},
     "output_type": "execute_result"
    }
   ],
   "source": [
    "df3['text'][8]"
   ]
  },
  {
   "cell_type": "code",
   "execution_count": null,
   "id": "a8f1674d",
   "metadata": {},
   "outputs": [],
   "source": []
  }
 ],
 "metadata": {
  "kernelspec": {
   "display_name": "kernel",
   "language": "python",
   "name": "kernel"
  },
  "language_info": {
   "codemirror_mode": {
    "name": "ipython",
    "version": 3
   },
   "file_extension": ".py",
   "mimetype": "text/x-python",
   "name": "python",
   "nbconvert_exporter": "python",
   "pygments_lexer": "ipython3",
   "version": "3.10.0"
  }
 },
 "nbformat": 4,
 "nbformat_minor": 5
}
